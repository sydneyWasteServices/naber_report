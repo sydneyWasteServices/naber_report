{
 "cells": [
  {
   "cell_type": "code",
   "execution_count": 11,
   "metadata": {},
   "outputs": [],
   "source": [
    "import pandas as pd\n",
    "import numpy as np\n",
    "import datetime"
   ]
  },
  {
   "cell_type": "code",
   "execution_count": 34,
   "metadata": {},
   "outputs": [
    {
     "data": {
      "text/plain": [
       "0    31/12/2020\n",
       "1    31/12/2020\n",
       "2    31/12/2020\n",
       "3    31/12/2020\n",
       "4    31/12/2020\n",
       "5    31/12/2020\n",
       "6    31/12/2020\n",
       "7    31/12/2020\n",
       "8    31/12/2020\n",
       "9    31/12/2020\n",
       "Name: Date, dtype: object"
      ]
     },
     "execution_count": 34,
     "metadata": {},
     "output_type": "execute_result"
    }
   ],
   "source": [
    "path = '../../ubuntuShareDrive/Datasets/Nabour_report_ds/2020_1.csv'\n",
    "df = pd.read_csv(path, dtype={\"Customer number\": np.float64 ,\"Schd Time Start\": str, \"PO\": str, 'PostCode': str}) \n",
    "df['Date'].head(10)\n",
    "# path1 = '../../ubuntuShareDrive/Datasets/booking/3.csv'\n",
    "# df1 = pd.read_csv(path1, dtype={\"Customer number\": np.float64 ,\"Schd Time Start\": str, \"PO\": str, 'PostCode': str}) \n"
   ]
  },
  {
   "cell_type": "code",
   "execution_count": 29,
   "metadata": {},
   "outputs": [],
   "source": [
    "df['Date'] = pd.to_datetime(df['Date'], format='%d/%m/%y')\n",
    "# df.set_index(df['Date_idx'], inplace=False)"
   ]
  },
  {
   "cell_type": "code",
   "execution_count": 30,
   "metadata": {},
   "outputs": [],
   "source": [
    "# df['Date_idx'].tail(10)\n",
    "# df.loc['2014-01-01':'2014-02-01']\n",
    "# df.loc[]\n",
    "# df[(df['date']>datetime.date(2016,1,1)) & (df['date']<datetime.date(2016,3,1))]  \n",
    "# new_df = df.loc[(df['Date_idx']>datetime.date(2020,7,22)) & (df['Date_idx']<datetime.date(2020,12,31))]\n",
    "# df.loc[datetime.date(2020,7,22):datetime.date(2020,12,31)]\n",
    "# df = df[(df['Date_idx']> \"20200-07-22\") & (df['Date_idx']< \"2020-12-31\")]\n",
    "# df['20200722':'20201231']\n",
    "# df.query('Date_idx > @ts(\"20200722T071320\")'\n",
    "# df.info()\n",
    "\n",
    "new_df = df[df[\"Date\"].isin(pd.date_range(\"2020-07-22\", \"2020-12-31\"))]\n",
    "new_df.to_csv(path_or_buf=\"2020_1.csv\",index=False)"
   ]
  },
  {
   "cell_type": "code",
   "execution_count": 31,
   "metadata": {},
   "outputs": [],
   "source": [
    "df1['Date'] = pd.to_datetime(df1['Date'], format='%d/%m/%y')\n",
    "# df1.set_index(df1['Date_idx'], inplace=False)"
   ]
  },
  {
   "cell_type": "code",
   "execution_count": 32,
   "metadata": {},
   "outputs": [],
   "source": [
    "new_df1 = df1[df1[\"Date\"].isin(pd.date_range(\"2020-01-01\", \"2020-07-21\"))]\n",
    "new_df1.to_csv(path_or_buf=\"hello1.csv\",index=False)"
   ]
  },
  {
   "cell_type": "code",
   "execution_count": null,
   "metadata": {},
   "outputs": [],
   "source": []
  },
  {
   "cell_type": "code",
   "execution_count": null,
   "metadata": {},
   "outputs": [],
   "source": []
  },
  {
   "cell_type": "code",
   "execution_count": null,
   "metadata": {},
   "outputs": [],
   "source": []
  }
 ],
 "metadata": {
  "kernelspec": {
   "display_name": "Python 3",
   "language": "python",
   "name": "python3"
  },
  "language_info": {
   "codemirror_mode": {
    "name": "ipython",
    "version": 3
   },
   "file_extension": ".py",
   "mimetype": "text/x-python",
   "name": "python",
   "nbconvert_exporter": "python",
   "pygments_lexer": "ipython3",
   "version": "3.8.5"
  }
 },
 "nbformat": 4,
 "nbformat_minor": 4
}
